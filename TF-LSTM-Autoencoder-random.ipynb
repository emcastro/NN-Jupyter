{
 "cells": [
  {
   "cell_type": "code",
   "execution_count": null,
   "metadata": {},
   "outputs": [],
   "source": [
    "# Basic libraries\n",
    "import numpy as np\n",
    "import tensorflow as tf\n",
    "# LSTM-autoencoder\n",
    "from LSTMAutoencoder import *"
   ]
  },
  {
   "cell_type": "code",
   "execution_count": null,
   "metadata": {},
   "outputs": [],
   "source": [
    "tf.reset_default_graph()\n",
    "tf.set_random_seed(2016)\n",
    "np.random.seed(2016)"
   ]
  },
  {
   "cell_type": "code",
   "execution_count": null,
   "metadata": {},
   "outputs": [],
   "source": [
    "# Constants\n",
    "batch_num = 128\n",
    "hidden_num = 12\n",
    "step_num = 8\n",
    "elem_num = 1\n",
    "iteration = 10000"
   ]
  },
  {
   "cell_type": "code",
   "execution_count": null,
   "metadata": {},
   "outputs": [],
   "source": [
    "# placeholder list\n",
    "p_input = tf.placeholder(tf.float32, shape=(batch_num, step_num, elem_num))\n",
    "p_inputs = [tf.squeeze(t, [1]) for t in tf.split(p_input, step_num, 1)]\n",
    "\n",
    "cell = tf.nn.rnn_cell.LSTMCell(hidden_num, use_peepholes=True)\n",
    "ae = LSTMAutoencoder(hidden_num, p_inputs, cell=cell, decode_without_input=True)"
   ]
  },
  {
   "cell_type": "code",
   "execution_count": null,
   "metadata": {},
   "outputs": [],
   "source": [
    "with tf.Session() as sess:\n",
    "    sess.run(tf.global_variables_initializer())\n",
    "\n",
    "    for i in range(iteration):\n",
    "        \"\"\"Random sequences.\n",
    "          Every sequence has size batch_num * step_num * elem_num \n",
    "          Each step number increases 1 by 1.\n",
    "          An initial number of each sequence is in the range from 0 to 19.\n",
    "          (ex. [8. 9. 10. 11. 12. 13. 14. 15])\n",
    "        \"\"\"\n",
    "        r = np.random.randint(20, size=batch_num).reshape([batch_num, 1, 1])\n",
    "        r = np.tile(r, (1, step_num, elem_num))\n",
    "        d = np.linspace(0, step_num, step_num, endpoint=False).reshape([1, step_num, elem_num])\n",
    "        d = np.tile(d, (batch_num, 1, 1))\n",
    "        random_sequences = r + d\n",
    "\n",
    "        (loss_val, _) = sess.run([ae.loss, ae.train], {p_input: random_sequences})\n",
    "        print('iter %d:' % (i + 1), loss_val)\n",
    "\n",
    "    (input_, output_) = sess.run([ae.input_, ae.output_], {p_input: r + d})\n",
    "    print('train result :')\n",
    "    print('input :', input_[0, :, :].flatten())\n",
    "    print('output :', output_[0, :, :].flatten())"
   ]
  },
  {
   "cell_type": "code",
   "execution_count": null,
   "metadata": {},
   "outputs": [],
   "source": []
  }
 ],
 "metadata": {
  "kernelspec": {
   "display_name": "Python 3",
   "language": "python",
   "name": "python3"
  },
  "language_info": {
   "codemirror_mode": {
    "name": "ipython",
    "version": 3
   },
   "file_extension": ".py",
   "mimetype": "text/x-python",
   "name": "python",
   "nbconvert_exporter": "python",
   "pygments_lexer": "ipython3",
   "version": "3.6.5"
  }
 },
 "nbformat": 4,
 "nbformat_minor": 2
}
