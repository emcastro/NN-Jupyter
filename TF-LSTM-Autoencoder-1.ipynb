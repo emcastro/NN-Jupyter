{
 "cells": [
  {
   "cell_type": "code",
   "execution_count": 1,
   "metadata": {},
   "outputs": [],
   "source": [
    "# Basic libraries\n",
    "import numpy as np\n",
    "import tensorflow as tf\n",
    "# LSTM-autoencoder\n",
    "from LSTMAutoencoder import *\n",
    "from pandas import read_csv\n",
    "from sklearn.preprocessing import MinMaxScaler\n"
   ]
  },
  {
   "cell_type": "code",
   "execution_count": 2,
   "metadata": {},
   "outputs": [],
   "source": [
    "tf.reset_default_graph()\n",
    "tf.set_random_seed(2016)\n",
    "np.random.seed(2016)"
   ]
  },
  {
   "cell_type": "code",
   "execution_count": 3,
   "metadata": {},
   "outputs": [],
   "source": [
    "# Constants\n",
    "batch_num = 120\n",
    "hidden_num = 12\n",
    "step_num = 15\n",
    "elem_num = 1\n",
    "iteration = 10000"
   ]
  },
  {
   "cell_type": "code",
   "execution_count": 4,
   "metadata": {},
   "outputs": [
    {
     "name": "stdout",
     "output_type": "stream",
     "text": [
      "(120, 15, 1)\n"
     ]
    }
   ],
   "source": [
    "# load the dataset\n",
    "dataframe = read_csv('https://raw.githubusercontent.com/jbrownlee/Datasets/master/airline-passengers.csv', usecols=[1], engine='python', skipfooter=3)\n",
    "# normalize the dataset\n",
    "scaler = MinMaxScaler(feature_range=(0, 1))\n",
    "dataset = scaler.fit_transform(dataframe.values.astype('float32'))\n",
    "\n",
    "data=np.zeros((batch_num,step_num,1))\n",
    "for b in range(batch_num):\n",
    "    data[b]=dataset[b:b+step_num]\n",
    "    \n",
    "# (batch_num, 8, 1)\n",
    " \n",
    "print(data.shape)\n",
    "    "
   ]
  },
  {
   "cell_type": "code",
   "execution_count": 5,
   "metadata": {},
   "outputs": [
    {
     "name": "stdout",
     "output_type": "stream",
     "text": [
      "WARNING:tensorflow:From /home/ecastro/usr/miniconda/lib/python3.6/site-packages/tensorflow/contrib/learn/python/learn/datasets/base.py:198: retry (from tensorflow.contrib.learn.python.learn.datasets.base) is deprecated and will be removed in a future version.\n",
      "Instructions for updating:\n",
      "Use the retry module or similar alternatives.\n"
     ]
    }
   ],
   "source": [
    "# placeholder list\n",
    "p_input = tf.placeholder(tf.float32, shape=(batch_num, step_num, elem_num))\n",
    "p_inputs = [tf.squeeze(t, [1]) for t in tf.split(p_input, step_num, 1)]\n",
    "\n",
    "cell = tf.nn.rnn_cell.LSTMCell(hidden_num, use_peepholes=True)\n",
    "ae = LSTMAutoencoder(hidden_num, p_inputs, cell=cell, decode_without_input=True)"
   ]
  },
  {
   "cell_type": "code",
   "execution_count": 6,
   "metadata": {},
   "outputs": [
    {
     "name": "stdout",
     "output_type": "stream",
     "text": [
      "iter 0: 0.064719364\n",
      "iter 500: 0.0057418332\n",
      "iter 1000: 0.00570651\n",
      "iter 1500: 0.005690402\n",
      "iter 2000: 0.005658193\n",
      "iter 2500: 0.005293341\n",
      "iter 3000: 0.0029339513\n",
      "iter 3500: 0.002063871\n",
      "iter 4000: 0.0017462947\n",
      "iter 4500: 0.0016550423\n",
      "iter 5000: 0.0013471859\n",
      "iter 5500: 0.001169667\n",
      "iter 6000: 0.0010826061\n",
      "iter 6500: 0.0010036092\n",
      "iter 7000: 0.0009477226\n",
      "iter 7500: 0.0011320115\n",
      "iter 8000: 0.00089979544\n",
      "iter 8500: 0.0008475579\n",
      "iter 9000: 0.0007544717\n",
      "iter 9500: 0.00076903705\n",
      "train result :\n",
      "input : [0.01544401 0.02702703 0.05405405 0.04826255 0.03281853 0.05984557\n",
      " 0.08494207 0.08494207 0.06177607 0.02895753 0.         0.02702703\n",
      " 0.02123553 0.04247104 0.07142857]\n",
      "output : [0.0137329  0.01590722 0.02815244 0.04423974 0.05882653 0.06836172\n",
      " 0.07021444 0.06305408 0.04943778 0.0360296  0.0297543  0.03342482\n",
      " 0.04322087 0.05037197 0.05907565]\n"
     ]
    }
   ],
   "source": [
    "# Encapsuler ça dans une fonction au format Train\n",
    "\n",
    "with tf.Session() as sess:\n",
    "    sess.run(tf.global_variables_initializer())\n",
    "\n",
    "    for i in range(iteration):\n",
    "        iteration_data = np.copy(data)\n",
    "        np.random.shuffle(iteration_data)\n",
    "        (loss_val, _) = sess.run([ae.loss, ae.train], {p_input: iteration_data})\n",
    "        if i%(iteration/20) == 0:\n",
    "            print('iter %d:' % (i), loss_val)\n",
    "\n",
    "    (input_, output_) = sess.run([ae.input_, ae.output_], {p_input: data})\n",
    "    print('train result :')\n",
    "    print('input :', input_[0, :, :].flatten())\n",
    "    print('output :', output_[0, :, :].flatten())"
   ]
  },
  {
   "cell_type": "code",
   "execution_count": null,
   "metadata": {},
   "outputs": [],
   "source": []
  }
 ],
 "metadata": {
  "kernelspec": {
   "display_name": "Python 3",
   "language": "python",
   "name": "python3"
  },
  "language_info": {
   "codemirror_mode": {
    "name": "ipython",
    "version": 3
   },
   "file_extension": ".py",
   "mimetype": "text/x-python",
   "name": "python",
   "nbconvert_exporter": "python",
   "pygments_lexer": "ipython3",
   "version": "3.6.5"
  }
 },
 "nbformat": 4,
 "nbformat_minor": 2
}
