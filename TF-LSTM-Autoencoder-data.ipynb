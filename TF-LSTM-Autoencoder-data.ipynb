{
 "cells": [
  {
   "cell_type": "code",
   "execution_count": null,
   "metadata": {},
   "outputs": [],
   "source": [
    "# Basic libraries\n",
    "import numpy as np\n",
    "import tensorflow as tf\n",
    "# LSTM-autoencoder\n",
    "from LSTMAutoencoder import *\n",
    "from pandas import read_csv\n",
    "from sklearn.preprocessing import MinMaxScaler\n"
   ]
  },
  {
   "cell_type": "code",
   "execution_count": null,
   "metadata": {},
   "outputs": [],
   "source": [
    "tf.reset_default_graph()\n",
    "tf.set_random_seed(2016)\n",
    "np.random.seed(2016)"
   ]
  },
  {
   "cell_type": "code",
   "execution_count": null,
   "metadata": {},
   "outputs": [],
   "source": [
    "# Constants\n",
    "batch_num = 120\n",
    "hidden_num = 15\n",
    "step_num = 15\n",
    "elem_num = 1\n",
    "iteration = 300000"
   ]
  },
  {
   "cell_type": "code",
   "execution_count": null,
   "metadata": {},
   "outputs": [],
   "source": [
    "# load the dataset\n",
    "dataframe = read_csv('https://raw.githubusercontent.com/jbrownlee/Datasets/master/airline-passengers.csv', usecols=[1], engine='python', skipfooter=3)\n",
    "# normalize the dataset\n",
    "scaler = MinMaxScaler(feature_range=(0, 1))\n",
    "#dataset = scaler.fit_transform(dataframe.values.astype('float32'))\n",
    "dataset = dataframe.values.astype('float32')\n",
    "\n",
    "data=np.zeros((batch_num,step_num,1))\n",
    "for b in range(batch_num):\n",
    "    data[b]=dataset[b:b+step_num]\n",
    "    \n",
    "# (batch_num, 8, 1)\n",
    " \n",
    "print(data.shape)\n",
    "    "
   ]
  },
  {
   "cell_type": "code",
   "execution_count": null,
   "metadata": {},
   "outputs": [],
   "source": [
    "# placeholder list\n",
    "p_input = tf.placeholder(tf.float32, shape=(batch_num, step_num, elem_num))\n",
    "p_inputs = [tf.squeeze(t, [1]) for t in tf.split(p_input, step_num, 1)]\n",
    "\n",
    "cell = tf.nn.rnn_cell.LSTMCell(hidden_num, use_peepholes=True)\n",
    "ae = LSTMAutoencoder(hidden_num, p_inputs, cell=cell, decode_without_input=True)"
   ]
  },
  {
   "cell_type": "code",
   "execution_count": null,
   "metadata": {},
   "outputs": [],
   "source": [
    "# Encapsuler ça dans une fonction au format Train\n",
    "\n",
    "with tf.Session() as sess:\n",
    "    sess.run(tf.global_variables_initializer())\n",
    "\n",
    "    for i in range(iteration):\n",
    "        iteration_data = np.copy(data)\n",
    "        np.random.shuffle(iteration_data)\n",
    "        (loss_val, _) = sess.run([ae.loss, ae.train], {p_input: iteration_data})\n",
    "        if i%(iteration/20) == 0:\n",
    "            print('iter %d:' % (i), loss_val)\n",
    "\n",
    "    (input_, output_) = sess.run([ae.input_, ae.output_], {p_input: data})\n",
    "    print('train result :')\n",
    "    print('input : ', input_[0, :, 0])\n",
    "    print('output :', output_[0, :, 0])\n",
    "    print('diff :  ', output_[0, :, 0]-input_[0, :, 0])"
   ]
  },
  {
   "cell_type": "code",
   "execution_count": null,
   "metadata": {},
   "outputs": [],
   "source": [
    "import matplotlib.pyplot as plt\n",
    "plt.plot(input_[0, :, 0])\n",
    "plt.plot(output_[0, :, 0])\n",
    "plt.show()"
   ]
  },
  {
   "cell_type": "code",
   "execution_count": null,
   "metadata": {},
   "outputs": [],
   "source": [
    "z=-10\n",
    "import matplotlib.pyplot as plt\n",
    "plt.plot(input_[z, :, 0])\n",
    "plt.plot(output_[z, :, 0])\n",
    "plt.show()"
   ]
  },
  {
   "cell_type": "code",
   "execution_count": null,
   "metadata": {},
   "outputs": [],
   "source": []
  }
 ],
 "metadata": {
  "kernelspec": {
   "display_name": "Python 3",
   "language": "python",
   "name": "python3"
  },
  "language_info": {
   "codemirror_mode": {
    "name": "ipython",
    "version": 3
   },
   "file_extension": ".py",
   "mimetype": "text/x-python",
   "name": "python",
   "nbconvert_exporter": "python",
   "pygments_lexer": "ipython3",
   "version": "3.6.5"
  }
 },
 "nbformat": 4,
 "nbformat_minor": 2
}
